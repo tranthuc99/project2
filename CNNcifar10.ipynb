{
  "nbformat": 4,
  "nbformat_minor": 0,
  "metadata": {
    "colab": {
      "name": "CNNcifar10.ipynb",
      "provenance": [],
      "collapsed_sections": [],
      "authorship_tag": "ABX9TyOgUETHHqwzXzA8Lx99AqJh",
      "include_colab_link": true
    },
    "kernelspec": {
      "name": "python3",
      "display_name": "Python 3"
    },
    "language_info": {
      "name": "python"
    }
  },
  "cells": [
    {
      "cell_type": "markdown",
      "metadata": {
        "id": "view-in-github",
        "colab_type": "text"
      },
      "source": [
        "<a href=\"https://colab.research.google.com/github/tranthuc99/project2/blob/main/CNNcifar10.ipynb\" target=\"_parent\"><img src=\"https://colab.research.google.com/assets/colab-badge.svg\" alt=\"Open In Colab\"/></a>"
      ]
    },
    {
      "cell_type": "markdown",
      "source": [
        "#1. Import thư viện\n"
      ],
      "metadata": {
        "id": "SKsZmDwmBzAJ"
      }
    },
    {
      "cell_type": "code",
      "source": [
        "from keras.models import Sequential, save_model\n",
        "from keras.layers import Dense, Conv2D, MaxPooling2D, Dropout, Flatten\n",
        "from keras.utils import np_utils\n",
        "from keras.datasets import cifar10\n",
        "\n",
        "import numpy as np\n",
        "import matplotlib.pyplot as plt\n",
        "\n",
        "from google.colab import files\n",
        "import time\n",
        "import tarfile\n",
        "import os\n",
        "import requests\n",
        "import json\n"
      ],
      "metadata": {
        "id": "5PqwuerdiFQO"
      },
      "execution_count": null,
      "outputs": []
    },
    {
      "cell_type": "markdown",
      "source": [
        "#2. Load và chuẩn hóa dữ liệu"
      ],
      "metadata": {
        "id": "1hMiQHnCB-Cd"
      }
    },
    {
      "cell_type": "code",
      "source": [
        "(x_train, y_train), (x_test, y_test) = cifar10.load_data()\n",
        "x_train = x_train.astype('float32') / 255.0\n",
        "x_test = x_test.astype('float32') / 255.0"
      ],
      "metadata": {
        "id": "GN1Pf2YeiIL7"
      },
      "execution_count": null,
      "outputs": []
    },
    {
      "cell_type": "code",
      "source": [
        "# mean = np.mean(x_train, axis=(0,1,2,3))\n",
        "# std = np.std(x_train, axis=(0,1,2,3))\n",
        "# x_train = (x_train - mean) / (std + 1e-7)\n",
        "# x_test = (x_test - mean) / (std + 1e-7)"
      ],
      "metadata": {
        "id": "P2LuyF2_iLEJ"
      },
      "execution_count": null,
      "outputs": []
    },
    {
      "cell_type": "code",
      "source": [
        "nClasses = 10\n",
        "y_train = np_utils.to_categorical(y_train, nClasses)\n",
        "y_test = np_utils.to_categorical(y_test, nClasses)"
      ],
      "metadata": {
        "id": "0x3aQwVqiNRM"
      },
      "execution_count": null,
      "outputs": []
    },
    {
      "cell_type": "markdown",
      "source": [
        "# 3. Kiến trúc mạng CNN"
      ],
      "metadata": {
        "id": "DwZ2vv59CINN"
      }
    },
    {
      "cell_type": "code",
      "source": [
        "input_shape = (32,32,3)\n",
        "\n",
        "def createModel():\n",
        "  model = Sequential()\n",
        "  model.add(Conv2D(32, (3, 3), padding='same', activation='relu', input_shape=input_shape))\n",
        "  model.add(Conv2D(32, (3, 3), activation='relu'))\n",
        "  model.add(MaxPooling2D(pool_size=(2, 2)))\n",
        "  model.add(Dropout(0.4))\n",
        "\n",
        "  model.add(Conv2D(64, (3, 3), padding='same', activation='relu'))\n",
        "  model.add(Conv2D(64, (3, 3), activation='relu'))\n",
        "  model.add(MaxPooling2D(pool_size=(2, 2)))\n",
        "  model.add(Dropout(0.4))\n",
        "\n",
        "  model.add(Conv2D(64, (3, 3), padding='same', activation='relu'))\n",
        "  model.add(Conv2D(64, (3, 3), activation='relu'))\n",
        "  model.add(MaxPooling2D(pool_size=(2, 2)))\n",
        "  model.add(Dropout(0.4))\n",
        "\n",
        "  model.add(Flatten())\n",
        "  model.add(Dense(512, activation='relu'))\n",
        "  model.add(Dropout(0.5))\n",
        "  model.add(Dense(nClasses, activation = 'softmax'))\n",
        "\n",
        "  return model"
      ],
      "metadata": {
        "id": "vPHwwT4piR88"
      },
      "execution_count": null,
      "outputs": []
    },
    {
      "cell_type": "code",
      "source": [
        "model = createModel()\n",
        "model.summary()"
      ],
      "metadata": {
        "colab": {
          "base_uri": "https://localhost:8080/"
        },
        "id": "0dEP79ymiWnU",
        "outputId": "2f2f6052-339a-4956-d859-78e7a475950e"
      },
      "execution_count": null,
      "outputs": [
        {
          "output_type": "stream",
          "name": "stdout",
          "text": [
            "Model: \"sequential_1\"\n",
            "_________________________________________________________________\n",
            " Layer (type)                Output Shape              Param #   \n",
            "=================================================================\n",
            " conv2d_6 (Conv2D)           (None, 32, 32, 32)        896       \n",
            "                                                                 \n",
            " conv2d_7 (Conv2D)           (None, 30, 30, 32)        9248      \n",
            "                                                                 \n",
            " max_pooling2d_3 (MaxPooling  (None, 15, 15, 32)       0         \n",
            " 2D)                                                             \n",
            "                                                                 \n",
            " dropout_4 (Dropout)         (None, 15, 15, 32)        0         \n",
            "                                                                 \n",
            " conv2d_8 (Conv2D)           (None, 15, 15, 64)        18496     \n",
            "                                                                 \n",
            " conv2d_9 (Conv2D)           (None, 13, 13, 64)        36928     \n",
            "                                                                 \n",
            " max_pooling2d_4 (MaxPooling  (None, 6, 6, 64)         0         \n",
            " 2D)                                                             \n",
            "                                                                 \n",
            " dropout_5 (Dropout)         (None, 6, 6, 64)          0         \n",
            "                                                                 \n",
            " conv2d_10 (Conv2D)          (None, 6, 6, 64)          36928     \n",
            "                                                                 \n",
            " conv2d_11 (Conv2D)          (None, 4, 4, 64)          36928     \n",
            "                                                                 \n",
            " max_pooling2d_5 (MaxPooling  (None, 2, 2, 64)         0         \n",
            " 2D)                                                             \n",
            "                                                                 \n",
            " dropout_6 (Dropout)         (None, 2, 2, 64)          0         \n",
            "                                                                 \n",
            " flatten_1 (Flatten)         (None, 256)               0         \n",
            "                                                                 \n",
            " dense_2 (Dense)             (None, 512)               131584    \n",
            "                                                                 \n",
            " dropout_7 (Dropout)         (None, 512)               0         \n",
            "                                                                 \n",
            " dense_3 (Dense)             (None, 10)                5130      \n",
            "                                                                 \n",
            "=================================================================\n",
            "Total params: 276,138\n",
            "Trainable params: 276,138\n",
            "Non-trainable params: 0\n",
            "_________________________________________________________________\n"
          ]
        }
      ]
    },
    {
      "cell_type": "markdown",
      "source": [
        "# 4. Train model với 250 epochs"
      ],
      "metadata": {
        "id": "vqivfhTTCS5m"
      }
    },
    {
      "cell_type": "code",
      "source": [
        "model.compile(optimizer='adam', loss='categorical_crossentropy',\n",
        "              metrics=['accuracy'])\n",
        "\n",
        "epochs = 250\n",
        "\n",
        "history = model.fit(x_train, y_train, epochs=epochs,\n",
        "                    batch_size=256,\n",
        "                    verbose=1,\n",
        "                    validation_data=(x_test, y_test),\n",
        "                    steps_per_epoch=30,\n",
        "                    validation_steps=3)"
      ],
      "metadata": {
        "id": "G_KWsCP8iYgG",
        "colab": {
          "base_uri": "https://localhost:8080/"
        },
        "outputId": "79a166ba-5dab-44d2-968b-ccfa27fc8bb3"
      },
      "execution_count": null,
      "outputs": [
        {
          "output_type": "stream",
          "name": "stdout",
          "text": [
            "30/30 [==============================] - 34s 1s/step - loss: 0.6239 - accuracy: 0.7857 - val_loss: 0.5529 - val_accuracy: 0.8034\n",
            "Epoch 200/250\n",
            "30/30 [==============================] - 34s 1s/step - loss: 0.5929 - accuracy: 0.7993 - val_loss: 0.5531 - val_accuracy: 0.8034\n",
            "Epoch 201/250\n",
            "30/30 [==============================] - 34s 1s/step - loss: 0.6198 - accuracy: 0.7841 - val_loss: 0.5477 - val_accuracy: 0.8047\n",
            "Epoch 202/250\n",
            "30/30 [==============================] - 34s 1s/step - loss: 0.6054 - accuracy: 0.7879 - val_loss: 0.5627 - val_accuracy: 0.7995\n",
            "Epoch 203/250\n",
            "30/30 [==============================] - 33s 1s/step - loss: 0.6015 - accuracy: 0.7936 - val_loss: 0.5314 - val_accuracy: 0.8138\n",
            "Epoch 204/250\n",
            "30/30 [==============================] - 34s 1s/step - loss: 0.6007 - accuracy: 0.7939 - val_loss: 0.5513 - val_accuracy: 0.8268\n",
            "Epoch 205/250\n",
            "30/30 [==============================] - 34s 1s/step - loss: 0.6251 - accuracy: 0.7828 - val_loss: 0.5384 - val_accuracy: 0.8060\n",
            "Epoch 206/250\n",
            "30/30 [==============================] - 34s 1s/step - loss: 0.6082 - accuracy: 0.7853 - val_loss: 0.5490 - val_accuracy: 0.8086\n",
            "Epoch 207/250\n",
            "30/30 [==============================] - 34s 1s/step - loss: 0.6192 - accuracy: 0.7862 - val_loss: 0.5550 - val_accuracy: 0.8047\n",
            "Epoch 208/250\n",
            "30/30 [==============================] - 34s 1s/step - loss: 0.6137 - accuracy: 0.7909 - val_loss: 0.5586 - val_accuracy: 0.8060\n",
            "Epoch 209/250\n",
            "30/30 [==============================] - 34s 1s/step - loss: 0.6221 - accuracy: 0.7822 - val_loss: 0.5246 - val_accuracy: 0.8047\n",
            "Epoch 210/250\n",
            "30/30 [==============================] - 33s 1s/step - loss: 0.6162 - accuracy: 0.7910 - val_loss: 0.5538 - val_accuracy: 0.8008\n",
            "Epoch 211/250\n",
            "30/30 [==============================] - 34s 1s/step - loss: 0.6203 - accuracy: 0.7828 - val_loss: 0.5378 - val_accuracy: 0.8086\n",
            "Epoch 212/250\n",
            "30/30 [==============================] - 34s 1s/step - loss: 0.6118 - accuracy: 0.7900 - val_loss: 0.5126 - val_accuracy: 0.8203\n",
            "Epoch 213/250\n",
            "30/30 [==============================] - 34s 1s/step - loss: 0.5957 - accuracy: 0.7909 - val_loss: 0.5684 - val_accuracy: 0.8008\n",
            "Epoch 214/250\n",
            "30/30 [==============================] - 34s 1s/step - loss: 0.6153 - accuracy: 0.7862 - val_loss: 0.5338 - val_accuracy: 0.8164\n",
            "Epoch 215/250\n",
            "30/30 [==============================] - 34s 1s/step - loss: 0.6013 - accuracy: 0.7923 - val_loss: 0.5520 - val_accuracy: 0.8099\n",
            "Epoch 216/250\n",
            "30/30 [==============================] - 33s 1s/step - loss: 0.5863 - accuracy: 0.7932 - val_loss: 0.5444 - val_accuracy: 0.8164\n",
            "Epoch 217/250\n",
            "30/30 [==============================] - 34s 1s/step - loss: 0.6023 - accuracy: 0.7849 - val_loss: 0.5244 - val_accuracy: 0.8268\n",
            "Epoch 218/250\n",
            "30/30 [==============================] - 34s 1s/step - loss: 0.5866 - accuracy: 0.7922 - val_loss: 0.5426 - val_accuracy: 0.7956\n",
            "Epoch 219/250\n",
            "30/30 [==============================] - 34s 1s/step - loss: 0.6121 - accuracy: 0.7874 - val_loss: 0.5417 - val_accuracy: 0.8138\n",
            "Epoch 220/250\n",
            "30/30 [==============================] - 34s 1s/step - loss: 0.6108 - accuracy: 0.7857 - val_loss: 0.5233 - val_accuracy: 0.8099\n",
            "Epoch 221/250\n",
            "30/30 [==============================] - 34s 1s/step - loss: 0.5999 - accuracy: 0.7922 - val_loss: 0.5740 - val_accuracy: 0.8008\n",
            "Epoch 222/250\n",
            "30/30 [==============================] - 34s 1s/step - loss: 0.6250 - accuracy: 0.7875 - val_loss: 0.5307 - val_accuracy: 0.8281\n",
            "Epoch 223/250\n",
            "30/30 [==============================] - 33s 1s/step - loss: 0.5959 - accuracy: 0.7936 - val_loss: 0.5528 - val_accuracy: 0.8073\n",
            "Epoch 224/250\n",
            "30/30 [==============================] - 34s 1s/step - loss: 0.5751 - accuracy: 0.7969 - val_loss: 0.5424 - val_accuracy: 0.8164\n",
            "Epoch 225/250\n",
            "30/30 [==============================] - 34s 1s/step - loss: 0.5761 - accuracy: 0.8008 - val_loss: 0.5419 - val_accuracy: 0.8255\n",
            "Epoch 226/250\n",
            "30/30 [==============================] - 34s 1s/step - loss: 0.6115 - accuracy: 0.7866 - val_loss: 0.5238 - val_accuracy: 0.8229\n",
            "Epoch 227/250\n",
            "30/30 [==============================] - 34s 1s/step - loss: 0.6008 - accuracy: 0.7922 - val_loss: 0.5520 - val_accuracy: 0.8268\n",
            "Epoch 228/250\n",
            "30/30 [==============================] - 34s 1s/step - loss: 0.6119 - accuracy: 0.7840 - val_loss: 0.5306 - val_accuracy: 0.8216\n",
            "Epoch 229/250\n",
            "30/30 [==============================] - 33s 1s/step - loss: 0.5943 - accuracy: 0.7945 - val_loss: 0.5302 - val_accuracy: 0.8203\n",
            "Epoch 230/250\n",
            "30/30 [==============================] - 34s 1s/step - loss: 0.5901 - accuracy: 0.7947 - val_loss: 0.5495 - val_accuracy: 0.8177\n",
            "Epoch 231/250\n",
            "30/30 [==============================] - 34s 1s/step - loss: 0.5881 - accuracy: 0.7975 - val_loss: 0.5484 - val_accuracy: 0.8112\n",
            "Epoch 232/250\n",
            "30/30 [==============================] - 34s 1s/step - loss: 0.6111 - accuracy: 0.7911 - val_loss: 0.5440 - val_accuracy: 0.8151\n",
            "Epoch 233/250\n",
            "30/30 [==============================] - 34s 1s/step - loss: 0.5936 - accuracy: 0.7936 - val_loss: 0.5117 - val_accuracy: 0.8112\n",
            "Epoch 234/250\n",
            "30/30 [==============================] - 34s 1s/step - loss: 0.5969 - accuracy: 0.7937 - val_loss: 0.5067 - val_accuracy: 0.8203\n",
            "Epoch 235/250\n",
            "30/30 [==============================] - 34s 1s/step - loss: 0.5948 - accuracy: 0.7940 - val_loss: 0.5246 - val_accuracy: 0.8073\n",
            "Epoch 236/250\n",
            "30/30 [==============================] - 33s 1s/step - loss: 0.5933 - accuracy: 0.7976 - val_loss: 0.5322 - val_accuracy: 0.8177\n",
            "Epoch 237/250\n",
            "30/30 [==============================] - 34s 1s/step - loss: 0.5712 - accuracy: 0.8026 - val_loss: 0.5128 - val_accuracy: 0.8073\n",
            "Epoch 238/250\n",
            "30/30 [==============================] - 34s 1s/step - loss: 0.6003 - accuracy: 0.7891 - val_loss: 0.5105 - val_accuracy: 0.8242\n",
            "Epoch 239/250\n",
            "30/30 [==============================] - 34s 1s/step - loss: 0.5736 - accuracy: 0.7969 - val_loss: 0.5710 - val_accuracy: 0.8034\n",
            "Epoch 240/250\n",
            "30/30 [==============================] - 34s 1s/step - loss: 0.6209 - accuracy: 0.7887 - val_loss: 0.5419 - val_accuracy: 0.8229\n",
            "Epoch 241/250\n",
            "30/30 [==============================] - 34s 1s/step - loss: 0.5790 - accuracy: 0.7990 - val_loss: 0.5396 - val_accuracy: 0.8060\n",
            "Epoch 242/250\n",
            "30/30 [==============================] - 33s 1s/step - loss: 0.5894 - accuracy: 0.8017 - val_loss: 0.5217 - val_accuracy: 0.8294\n",
            "Epoch 243/250\n",
            "30/30 [==============================] - 34s 1s/step - loss: 0.5854 - accuracy: 0.7979 - val_loss: 0.5335 - val_accuracy: 0.8203\n",
            "Epoch 244/250\n",
            "30/30 [==============================] - 34s 1s/step - loss: 0.5671 - accuracy: 0.8021 - val_loss: 0.5336 - val_accuracy: 0.8008\n",
            "Epoch 245/250\n",
            "30/30 [==============================] - 34s 1s/step - loss: 0.5820 - accuracy: 0.7951 - val_loss: 0.5228 - val_accuracy: 0.8099\n",
            "Epoch 246/250\n",
            "30/30 [==============================] - 34s 1s/step - loss: 0.5795 - accuracy: 0.7908 - val_loss: 0.5198 - val_accuracy: 0.8190\n",
            "Epoch 247/250\n",
            "30/30 [==============================] - 34s 1s/step - loss: 0.6164 - accuracy: 0.7866 - val_loss: 0.5095 - val_accuracy: 0.8281\n",
            "Epoch 248/250\n",
            "30/30 [==============================] - 34s 1s/step - loss: 0.5818 - accuracy: 0.7931 - val_loss: 0.5388 - val_accuracy: 0.8047\n",
            "Epoch 249/250\n",
            "30/30 [==============================] - 33s 1s/step - loss: 0.5817 - accuracy: 0.7965 - val_loss: 0.5124 - val_accuracy: 0.8307\n",
            "Epoch 250/250\n",
            "30/30 [==============================] - 34s 1s/step - loss: 0.5825 - accuracy: 0.7991 - val_loss: 0.5188 - val_accuracy: 0.8190\n"
          ]
        }
      ]
    },
    {
      "cell_type": "markdown",
      "source": [
        "#5. Đánh giá model\n",
        "##5.1 Accuracy curve"
      ],
      "metadata": {
        "id": "rhO4v-0OCk0b"
      }
    },
    {
      "cell_type": "code",
      "source": [
        "\n",
        "acc = history.history['accuracy']\n",
        "val_acc = history.history['val_accuracy']\n",
        "loss = history.history['loss']\n",
        "val_loss = history.history['val_loss']\n",
        "\n",
        "epochs = range(len(acc))\n",
        "\n",
        "plt.plot(epochs, acc, 'r', label='Training accuracy')\n",
        "plt.plot(epochs, val_acc, 'b', label='Validation accuracy')\n",
        "plt.title('Training and validation accuracy')\n",
        "plt.legend(loc=0)\n",
        "plt.figure()\n",
        "\n",
        "\n",
        "plt.show()"
      ],
      "metadata": {
        "id": "_sjAoVomwYjD",
        "colab": {
          "base_uri": "https://localhost:8080/",
          "height": 299
        },
        "outputId": "79bc09a5-e0df-471c-dd0d-ac29719ebbee"
      },
      "execution_count": null,
      "outputs": [
        {
          "output_type": "display_data",
          "data": {
            "image/png": "[encoded data removed]",
            "text/plain": [
              "<Figure size 432x288 with 1 Axes>"
            ]
          },
          "metadata": {
            "needs_background": "light"
          }
        },
        {
          "output_type": "display_data",
          "data": {
            "text/plain": [
              "<Figure size 432x288 with 0 Axes>"
            ]
          },
          "metadata": {}
        }
      ]
    },
    {
      "cell_type": "markdown",
      "source": [
        "## 5.2 Loss curve"
      ],
      "metadata": {
        "id": "EQzfy8bADF1X"
      }
    },
    {
      "cell_type": "code",
      "source": [
        "plt.plot(epochs, loss, 'r', label='Training loss')\n",
        "plt.plot(epochs, val_loss, 'b', label='Validation loss')\n",
        "plt.title('Training and validation loss')\n",
        "plt.legend(loc=0)\n",
        "plt.figure()\n",
        "\n",
        "\n",
        "plt.show()"
      ],
      "metadata": {
        "colab": {
          "base_uri": "https://localhost:8080/",
          "height": 299
        },
        "id": "zV1Wjjpq4LQn",
        "outputId": "04541b75-10d3-4ed4-f321-13d7dd399605"
      },
      "execution_count": null,
      "outputs": [
        {
          "output_type": "display_data",
          "data": {
            "image/png": "[encoded data removed]",
            "text/plain": [
              "<Figure size 432x288 with 1 Axes>"
            ]
          },
          "metadata": {
            "needs_background": "light"
          }
        },
        {
          "output_type": "display_data",
          "data": {
            "text/plain": [
              "<Figure size 432x288 with 0 Axes>"
            ]
          },
          "metadata": {}
        }
      ]
    },
    {
      "cell_type": "markdown",
      "source": [
        "#6. Lưu model\n",
        "##6.1 Lưu model vào đường dẫn có đánh dấu thời gian, dấu thời gian tương ứng với version của model"
      ],
      "metadata": {
        "id": "zuML_aTSDLNv"
      }
    },
    {
      "cell_type": "code",
      "source": [
        "ts = int(time.time())\n",
        "file_path = f\"tfs/cnncifar10/{ts}/\"\n",
        "model.save(filepath=file_path, save_format='tf')"
      ],
      "metadata": {
        "colab": {
          "base_uri": "https://localhost:8080/"
        },
        "id": "OE0NhPB06mKd",
        "outputId": "9efa2cb8-f01b-422d-95d9-dcc2eb1dc950"
      },
      "execution_count": null,
      "outputs": [
        {
          "output_type": "stream",
          "name": "stdout",
          "text": [
            "INFO:tensorflow:Assets written to: tfs/cnncifar10/1640253792/assets\n"
          ]
        }
      ]
    },
    {
      "cell_type": "markdown",
      "source": [
        "##6.2 Nén model có phần mở rộng .tar.gz\n",
        "Định dạng này cho phép deploy với Tensorflow seving 1 cách dễ dàng"
      ],
      "metadata": {
        "id": "Bxdozso0DjMX"
      }
    },
    {
      "cell_type": "code",
      "source": [
        "\n",
        "\n",
        "def tar_folder(output_filename: str, source_dir: str):\n",
        "    with tarfile.open(output_filename, \"w:gz\") as tar:\n",
        "        tar.add(source_dir, arcname=os.path.basename(source_dir))\n",
        "\n",
        "OUT_FILE = 'tfs.tar.gz'\n",
        "\n",
        "SOURCE_FILE = \"tfs\"\n",
        "\n",
        "tar_folder(output_filename=OUT_FILE, source_dir=SOURCE_FILE)"
      ],
      "metadata": {
        "id": "n3WS69cKJokb"
      },
      "execution_count": null,
      "outputs": []
    },
    {
      "cell_type": "markdown",
      "source": [
        "#7. Test model\n",
        "##7.1 Test model bằng hình ảnh tải trực tiếp từ máy lên"
      ],
      "metadata": {
        "id": "gy4aWr2bD-JR"
      }
    },
    {
      "cell_type": "code",
      "source": [
        "import numpy as np\n",
        "from google.colab import files\n",
        "from keras.preprocessing import image\n",
        "\n",
        "uploaded = files.upload()\n",
        "\n",
        "for fn in uploaded.keys():\n",
        " \n",
        "  path = fn\n",
        "  img = image.load_img(path, target_size=(32, 32))\n",
        "  x = image.img_to_array(img)\n",
        "  x = np.expand_dims(x, axis=0)\n",
        "\n",
        "  images = np.vstack([x])\n",
        "  classes = model.predict(images, batch_size=10)\n",
        "  print(fn)\n",
        "  print(classes.T)"
      ],
      "metadata": {
        "id": "9cNYGMn2wi62"
      },
      "execution_count": null,
      "outputs": []
    },
    {
      "cell_type": "markdown",
      "source": [
        "##7.2 Test api model sau khi đã deploy "
      ],
      "metadata": {
        "id": "ddLiATT-EKNP"
      }
    },
    {
      "cell_type": "code",
      "source": [
        "(_, _), (x_test, y_test) = cifar10.load_data()\n",
        "y_test = np_utils.to_categorical(y_test, 10)\n",
        "x_test = x_test.astype('float32') / 255.0\n",
        "\n",
        "\n",
        "test_img = x_test[0:10]\n",
        "\n",
        "url = f'https://apimodel-da2.herokuapp.com/v1/models/cnncifar10:predict'\n",
        "\n",
        "\n",
        "def make_prediction(instances, many=False):\n",
        "    if not many:\n",
        "        data = json.dumps({\"signature_name\": \"serving_default\", \"instances\": [instances.tolist()]})\n",
        "    else:\n",
        "        data = json.dumps({\"signature_name\": \"serving_default\", \"instances\": instances.tolist()})\n",
        "    headers = {\"content-type\": \"application/json\"}\n",
        "    json_response = requests.post(url, data=data, headers=headers)\n",
        "    predictions = json.loads(json_response.text)['predictions']\n",
        "    return predictions\n",
        "\n",
        "\n",
        "for p in make_prediction(test_img, True):\n",
        "    print(np.argmax(p))\n",
        "# print('\\n')\n",
        "# for i in range(10):\n",
        "#     print(np.argmax(y_test[i]))\n",
        "\n",
        "# print(test_img.shape)\n",
        "# print(test_img.tolist())\n",
        "\n"
      ],
      "metadata": {
        "id": "1KzEH4RN9w3P"
      },
      "execution_count": null,
      "outputs": []
    }
  ]
}
